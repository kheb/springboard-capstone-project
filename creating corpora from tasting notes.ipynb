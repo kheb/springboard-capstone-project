{
 "cells": [
  {
   "cell_type": "code",
   "execution_count": 1,
   "metadata": {
    "collapsed": false
   },
   "outputs": [
    {
     "name": "stdout",
     "output_type": "stream",
     "text": [
      "Populating the interactive namespace from numpy and matplotlib\n"
     ]
    },
    {
     "name": "stderr",
     "output_type": "stream",
     "text": [
      "D:\\Program Files\\Anaconda3\\lib\\site-packages\\gensim\\utils.py:855: UserWarning: detected Windows; aliasing chunkize to chunkize_serial\n",
      "  warnings.warn(\"detected Windows; aliasing chunkize to chunkize_serial\")\n"
     ]
    }
   ],
   "source": [
    "import pandas as pd\n",
    "import json\n",
    "from pandas.io.json import json_normalize\n",
    "\n",
    "%pylab inline\n",
    "import numpy as np\n",
    "import matplotlib.pyplot as plt\n",
    "from pprint import pprint\n",
    "\n",
    "from gensim import corpora, models, similarities\n",
    "from nltk.corpus import stopwords\n",
    "import nltk\n",
    "\n",
    "import snowballstemmer\n",
    "import gensim\n",
    "\n",
    "from string import ascii_lowercase\n",
    "\n",
    "import itertools\n",
    "\n",
    "from collections import defaultdict"
   ]
  },
  {
   "cell_type": "code",
   "execution_count": 2,
   "metadata": {
    "collapsed": true
   },
   "outputs": [],
   "source": [
    "#import data\n",
    "reds = pd.read_json('red_wines.json', orient = \"columns\", typ='frame')\n",
    "whts = pd.read_json('white_wines.json',orient = 'columns', typ='frame')\n",
    "rose = pd.read_json('rose_wines.json', orient='columns', typ='frame')\n",
    "sprk = pd.read_json('spark_wines.json', orient='columns', typ='frame')\n",
    "\n",
    "#combine data_sets (wine type is in 'Varietal.WineType.Id' and 'Varietal.WineType.Name')\n",
    "wine = pd.DataFrame()\n",
    "wine = wine.append(reds, ignore_index = True)\n",
    "wine = wine.append(whts, ignore_index = True)\n",
    "wine = wine.append(rose, ignore_index = True)\n",
    "wine = wine.append(sprk, ignore_index = True)"
   ]
  },
  {
   "cell_type": "code",
   "execution_count": 3,
   "metadata": {
    "collapsed": true
   },
   "outputs": [],
   "source": [
    "#use the wine dataframe, column name, and column key as inputs\n",
    "#also have the notes column specifiable as optional parameter\n",
    "def select_wines(data, col_name='NaN', col_key='NaN', notes_col='Notes'):\n",
    "    \n",
    "    if (col_name == 'NaN') & (col_key == 'NaN'):\n",
    "        notes = data[data[notes_col] != 'NaN'][notes_col].copy()\n",
    "        w_ids = data[data[notes_col] != 'NaN']['Id'].copy()\n",
    "    else:\n",
    "        #copy notes and wine ids\n",
    "        notes = data[(data[col_name]==col_key) & (data[notes_col] != 'NaN')][notes_col].copy()\n",
    "        w_ids = data[(data[col_name]==col_key) & (data[notes_col] != 'NaN')]['Id'].copy()\n",
    "    \n",
    "    result = pd.concat([w_ids, notes], axis=1, join_axes=[w_ids.index])\n",
    "    \n",
    "    return result\n",
    "    "
   ]
  },
  {
   "cell_type": "code",
   "execution_count": 4,
   "metadata": {
    "collapsed": true
   },
   "outputs": [],
   "source": [
    "#cleaning up the test_notes dataframe\n",
    "#takes as input the notes dataframe\n",
    "def clean_notes(input_list, input_ids):\n",
    "    \n",
    "    #copy input just to be sure\n",
    "    notes_list = input_list.copy()\n",
    "    w_ids_list = input_ids.tolist().copy()\n",
    "    \n",
    "    #replace 'Winemaker's Notes' tag\n",
    "    notes_list.replace('Winemaker\\'s Notes:',' ',inplace=True,regex=True)\n",
    "    #replace puncuation, special characters, etc.\n",
    "    notes_list.replace('[$&!:\"#%\\'()*+,-.—/;<=>?@\\[\\]^_`{|}~1234567890’”“′‘\\\\\\]',' ',inplace=True,regex=True)\n",
    "    \n",
    "    #stemmer and stopwords initialization\n",
    "    stemmer = snowballstemmer.EnglishStemmer()\n",
    "    #initialize stop list\n",
    "    stop = stopwords.words('english')\n",
    "    #extend stoplist\n",
    "    stop.extend(['may','also','zero','one','two','three','four','five','six','seven','eight','nine','ten','across','among','beside','however','yet','within']+list(ascii_lowercase))\n",
    "    #also include stems\n",
    "    stoplist = stemmer.stemWords(stop)\n",
    "    #set stoplist\n",
    "    stoplist = set(stoplist)\n",
    "    #combine full and stemmed words\n",
    "    stop = set(sorted(stop + list(stoplist)))\n",
    "    \n",
    "    #remove stopwords and return list\n",
    "    notes_filt = [' '.join(word for word in line.lower().split() if word not in stop) for line in notes_list.tolist()]\n",
    "    \n",
    "    #find stems and replace words\n",
    "    notes_stem = [stemmer.stemWords(line.split()) for line in notes_filt]\n",
    "    \n",
    "    #output \n",
    "    #output = pd.DataFrame(pd.Series(notes_stem),columns=['Stemmed'])\n",
    "    output = pd.DataFrame({'Id':pd.Series(w_ids_list), 'Stemmed':pd.Series(notes_stem)})\n",
    "    \n",
    "    return output\n",
    "    "
   ]
  },
  {
   "cell_type": "code",
   "execution_count": 5,
   "metadata": {
    "collapsed": true
   },
   "outputs": [],
   "source": [
    "def count_notes(wine_notes_stem):\n",
    "    freq_stem = defaultdict(int)\n",
    "    for line in wine_notes.Stemmed:\n",
    "        for token in line:\n",
    "            freq_stem[token] += 1\n",
    "    \n",
    "    return freq_stem"
   ]
  },
  {
   "cell_type": "code",
   "execution_count": 10,
   "metadata": {
    "collapsed": false,
    "scrolled": true
   },
   "outputs": [
    {
     "data": {
      "text/plain": [
       "Chardonnay               13619\n",
       "Cabernet Sauvignon       13374\n",
       "Pinot Noir               11037\n",
       "Bordeaux Red Blends       7737\n",
       "Other Red Blends          6949\n",
       "Syrah/Shiraz              6094\n",
       "Sauvignon Blanc           5321\n",
       "Merlot                    4903\n",
       "Sangiovese                3892\n",
       "Zinfandel                 3392\n",
       "Rhone Red Blends          3341\n",
       "Riesling                  2904\n",
       "Rosé                      2701\n",
       "Pinot Gris/Grigio         2368\n",
       "Other White Blends        2329\n",
       "Tempranillo               2112\n",
       "Nebbiolo                  1839\n",
       "Other White Wine          1744\n",
       "Malbec                    1732\n",
       "Other Red Wine            1685\n",
       "Vintage                   1303\n",
       "Non-Vintage               1002\n",
       "Grenache                   789\n",
       "Viognier                   711\n",
       "Chenin Blanc               709\n",
       "Rhone White Blends         687\n",
       "Gamay                      635\n",
       "Barbera                    619\n",
       "Bordeaux White Blends      589\n",
       "Petite Sirah               562\n",
       "Gewurztraminer             524\n",
       "Cabernet Franc             508\n",
       "Muscat                     487\n",
       "Pinot Blanc                468\n",
       "Albarino                   373\n",
       "Carmenere                  356\n",
       "Gruner Veltliner           289\n",
       "Mourvedre                  278\n",
       "Dolcetto                   224\n",
       "Nero d'Avola               208\n",
       "Torrontes                  195\n",
       "Pinotage                   171\n",
       "Semillon                   162\n",
       "Primitivo                  139\n",
       "White Zinfandel              8\n",
       "                             3\n",
       "Name: Varietal.Name, dtype: int64"
      ]
     },
     "execution_count": 10,
     "metadata": {},
     "output_type": "execute_result"
    }
   ],
   "source": [
    "wine['Varietal.Name'].value_counts()"
   ]
  },
  {
   "cell_type": "code",
   "execution_count": 11,
   "metadata": {
    "collapsed": false,
    "scrolled": true
   },
   "outputs": [],
   "source": [
    "#select wines\n",
    "wine_notes = select_wines(wine, 'Varietal.Name', 'Cabernet Sauvignon')\n",
    "\n",
    "#clean up tasting notes and merge with orig dataframe\n",
    "stemmed_notes = clean_notes(wine_notes.Notes, wine_notes.Id)\n",
    "wine_notes = pd.merge(wine_notes, stemmed_notes, how='left', on='Id')\n",
    "\n",
    "#count stem frequencies\n",
    "note_freq = count_notes(wine_notes.Stemmed)\n",
    "\n",
    "#remove low counts (< 5) and merge\n",
    "wine_notes_mult = [[token for token in line if note_freq[token] > 5]\n",
    "                    for line in wine_notes.Stemmed]\n",
    "wine_notes_mult = pd.DataFrame({'Id':pd.Series(wine_notes.Id), 'Stem>5':pd.Series(wine_notes_mult)})\n",
    "wine_notes = pd.merge(wine_notes, wine_notes_mult, how='left', on='Id')\n"
   ]
  },
  {
   "cell_type": "code",
   "execution_count": null,
   "metadata": {
    "collapsed": false
   },
   "outputs": [],
   "source": [
    "#pd.DataFrame(pd.Series(stemmed_notes))[0].tolist()\n",
    "#return to original form: wine_notes.Stemmed.tolist()\n",
    "#return to original form: wine_notes['Stem>5'].tolist()"
   ]
  },
  {
   "cell_type": "code",
   "execution_count": 12,
   "metadata": {
    "collapsed": false
   },
   "outputs": [],
   "source": [
    "#create dictionary of all stemmed words\n",
    "dictionary = corpora.Dictionary(wine_notes['Stemmed'].tolist())\n",
    "#create corpus from dictionary\n",
    "corpus = [dictionary.doc2bow(line) for line in wine_notes['Stemmed'].tolist()]\n",
    "#save corpus\n",
    "corpora.MmCorpus.serialize('cabernet.mm', corpus)"
   ]
  },
  {
   "cell_type": "code",
   "execution_count": null,
   "metadata": {
    "collapsed": true
   },
   "outputs": [],
   "source": [
    "#not sure where to go from here"
   ]
  },
  {
   "cell_type": "code",
   "execution_count": null,
   "metadata": {
    "collapsed": false,
    "scrolled": true
   },
   "outputs": [],
   "source": [
    "token_counts = pd.Series(dict(note_freq)).sort_values(ascending = False)\n",
    "token_counts"
   ]
  },
  {
   "cell_type": "code",
   "execution_count": null,
   "metadata": {
    "collapsed": false
   },
   "outputs": [],
   "source": [
    "print(dictionary.token2id)"
   ]
  },
  {
   "cell_type": "code",
   "execution_count": null,
   "metadata": {
    "collapsed": false,
    "scrolled": true
   },
   "outputs": [],
   "source": []
  },
  {
   "cell_type": "code",
   "execution_count": null,
   "metadata": {
    "collapsed": false
   },
   "outputs": [],
   "source": [
    "tfidf = models.TfidfModel(corpus) #initialize tf-idf model"
   ]
  },
  {
   "cell_type": "code",
   "execution_count": null,
   "metadata": {
    "collapsed": false
   },
   "outputs": [],
   "source": [
    "vec = [(0,1),(4,1)]\n",
    "print(tfidf[vec]) #use model to transform vectors"
   ]
  },
  {
   "cell_type": "code",
   "execution_count": null,
   "metadata": {
    "collapsed": true
   },
   "outputs": [],
   "source": [
    "index = similarities.SparseMatrixSimilarity(tfidf[corpus],num_features=12)"
   ]
  },
  {
   "cell_type": "code",
   "execution_count": null,
   "metadata": {
    "collapsed": true
   },
   "outputs": [],
   "source": [
    "sims = index[tfidf[vec]]\n"
   ]
  }
 ],
 "metadata": {
  "anaconda-cloud": {},
  "kernelspec": {
   "display_name": "Python [conda root]",
   "language": "python",
   "name": "conda-root-py"
  },
  "language_info": {
   "codemirror_mode": {
    "name": "ipython",
    "version": 3
   },
   "file_extension": ".py",
   "mimetype": "text/x-python",
   "name": "python",
   "nbconvert_exporter": "python",
   "pygments_lexer": "ipython3",
   "version": "3.5.2"
  }
 },
 "nbformat": 4,
 "nbformat_minor": 1
}
