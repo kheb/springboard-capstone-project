{
 "cells": [
  {
   "cell_type": "code",
   "execution_count": 1,
   "metadata": {
    "collapsed": false
   },
   "outputs": [
    {
     "name": "stdout",
     "output_type": "stream",
     "text": [
      "Populating the interactive namespace from numpy and matplotlib\n"
     ]
    },
    {
     "name": "stderr",
     "output_type": "stream",
     "text": [
      "D:\\Program Files\\Anaconda3\\lib\\site-packages\\gensim\\utils.py:855: UserWarning: detected Windows; aliasing chunkize to chunkize_serial\n",
      "  warnings.warn(\"detected Windows; aliasing chunkize to chunkize_serial\")\n"
     ]
    }
   ],
   "source": [
    "import pandas as pd\n",
    "import json\n",
    "from pandas.io.json import json_normalize\n",
    "\n",
    "%pylab inline\n",
    "import numpy as np\n",
    "import matplotlib.pyplot as plt\n",
    "from pprint import pprint\n",
    "\n",
    "from gensim import corpora, models, similarities\n",
    "from nltk.corpus import stopwords\n",
    "import nltk\n",
    "\n",
    "import snowballstemmer\n",
    "import gensim\n",
    "\n",
    "from string import ascii_lowercase\n",
    "\n",
    "import itertools\n",
    "\n",
    "from collections import defaultdict\n",
    "import collections\n",
    "\n",
    "from IPython.display import clear_output"
   ]
  },
  {
   "cell_type": "code",
   "execution_count": 2,
   "metadata": {
    "collapsed": false
   },
   "outputs": [],
   "source": [
    "#start by loading the stemmed wine notes\n",
    "wine_notes = pd.read_pickle('wine_notes.pickle')"
   ]
  },
  {
   "cell_type": "code",
   "execution_count": 4,
   "metadata": {
    "collapsed": true
   },
   "outputs": [],
   "source": [
    "#keywords for data parameters\n",
    "data_key = 'wine_notes'\n",
    "data_save = False\n",
    "data_order = 'shuffle' #'reverse', 'original'\n",
    "\n",
    "n_top = 20\n",
    "kappa = 1\n",
    "n_pass = 1"
   ]
  },
  {
   "cell_type": "code",
   "execution_count": null,
   "metadata": {
    "collapsed": false
   },
   "outputs": [],
   "source": []
  },
  {
   "cell_type": "code",
   "execution_count": 5,
   "metadata": {
    "collapsed": false
   },
   "outputs": [],
   "source": [
    "#prepare document df and document lists\n",
    "if data_order == 'original':\n",
    "    document_df = wine_notes.copy()\n",
    "if data_order == 'shuffle':\n",
    "    document_df = wine_notes.sample(frac=1, replace=False).reset_index(drop=True)\n",
    "if data_order == 'reverse':\n",
    "    document_df = wine_notes.sort_index(ascending=False).reset_index(drop=True)\n",
    "\n",
    "document_list = document_df['Stemmed'].tolist()"
   ]
  },
  {
   "cell_type": "code",
   "execution_count": null,
   "metadata": {
    "collapsed": true
   },
   "outputs": [],
   "source": [
    "if data_save: document_df.to_pickle(data_key+'_ids'+'.pickle')"
   ]
  },
  {
   "cell_type": "code",
   "execution_count": 6,
   "metadata": {
    "collapsed": false
   },
   "outputs": [],
   "source": [
    "#create dictionary of all stemmed words\n",
    "dictionary = corpora.Dictionary(document_list)\n",
    "if data_save: dictionary.save(data_key+'.dict')\n",
    "    \n",
    "#check out some dictionary methods for filtering/refining the dictionary, i.e. removing frequent/infrequent words\n",
    "\n",
    "#pretty sure only have to do this once, since the words in the documents won't change, just the order of doucments"
   ]
  },
  {
   "cell_type": "code",
   "execution_count": null,
   "metadata": {
    "collapsed": false
   },
   "outputs": [],
   "source": []
  },
  {
   "cell_type": "code",
   "execution_count": 13,
   "metadata": {
    "collapsed": true
   },
   "outputs": [],
   "source": [
    "#1. create \"bow\" corpus from documents using the dictionary\n",
    "corpus = [dictionary.doc2bow(line) for line in document_list]\n",
    "if data_save: corpora.MmCorpus.serialize(data_key+'.mm', corpus)\n",
    "    \n",
    "#randomize/shuffle the corpus based on \"data_input\" input parameter"
   ]
  },
  {
   "cell_type": "code",
   "execution_count": 14,
   "metadata": {
    "collapsed": true
   },
   "outputs": [],
   "source": [
    "#2. convert to tf-idf model\n",
    "tfidf = models.TfidfModel(corpus)\n",
    "if data_save: tfidf.save(data_key+'.tfidf_model')\n",
    "#keep the corpus model in memory for future use\n",
    "corpus_tfidf = tfidf[corpus]\n",
    "if data_save: corpora.MmCorpus.serialize(data_key+'_tfidf'+'.mm', corpus_tfidf)"
   ]
  },
  {
   "cell_type": "code",
   "execution_count": 15,
   "metadata": {
    "collapsed": false
   },
   "outputs": [
    {
     "data": {
      "text/plain": [
       "[(0,\n",
       "  [('water', 0.0039502452244033828),\n",
       "   ('midpal', 0.0037897879629662109),\n",
       "   ('molass', 0.0034864697162264439),\n",
       "   ('enrich', 0.003234074388779954),\n",
       "   ('barbequ', 0.0029789892960046661),\n",
       "   ('brais', 0.0029625050417803598),\n",
       "   ('delicaci', 0.0028243061863772851),\n",
       "   ('slate', 0.0028098283973876596),\n",
       "   ('spice', 0.0027529810818336655),\n",
       "   ('fruit', 0.0026527279172847916)]),\n",
       " (1,\n",
       "  [('blackcurr', 0.0051355537324252664),\n",
       "   ('greet', 0.0035874999484536737),\n",
       "   ('red', 0.0034455074300971966),\n",
       "   ('nose', 0.0032122216530690406),\n",
       "   ('sour', 0.0031040221870004088),\n",
       "   ('cherri', 0.0030294924481424866),\n",
       "   ('black', 0.0030247910888716589),\n",
       "   ('brule', 0.0029719555583118044),\n",
       "   ('spice', 0.0029354180583759703),\n",
       "   ('palat', 0.0028946092905639434)]),\n",
       " (2,\n",
       "  [('tempranillo', 0.007781958418136543),\n",
       "   ('santa', 0.0057155823640221886),\n",
       "   ('garnacha', 0.0047202734991962899),\n",
       "   ('satisfi', 0.0044349479280628252),\n",
       "   ('pinot', 0.004014857243904997),\n",
       "   ('graciano', 0.0038761120227190945),\n",
       "   ('noir', 0.0038257422258570028),\n",
       "   ('meati', 0.0037171577172423779),\n",
       "   ('red', 0.0036484201798045839),\n",
       "   ('marmalad', 0.0036282694152396464)]),\n",
       " (3,\n",
       "  [('cabernet', 0.020147648573392841),\n",
       "   ('merlot', 0.012750415085670619),\n",
       "   ('blend', 0.012319241063612731),\n",
       "   ('sauvignon', 0.011939581043617468),\n",
       "   ('franc', 0.010448910067794543),\n",
       "   ('petit', 0.0093047965519327328),\n",
       "   ('verdot', 0.0077648987301576549),\n",
       "   ('syrah', 0.0075624453043509829),\n",
       "   ('vineyard', 0.0069750750741534818),\n",
       "   ('valley', 0.0062578367769177542)]),\n",
       " (4,\n",
       "  [('citrus', 0.011438320657884873),\n",
       "   ('appl', 0.011049107288986422),\n",
       "   ('fresh', 0.010145537994255532),\n",
       "   ('pear', 0.0094786022059300118),\n",
       "   ('crisp', 0.0092273546643427753),\n",
       "   ('peach', 0.0091680745775353772),\n",
       "   ('white', 0.0090902639048883963),\n",
       "   ('yellow', 0.0089394693604477327),\n",
       "   ('lemon', 0.0087493218063604064),\n",
       "   ('green', 0.0084767014584824774)]),\n",
       " (5,\n",
       "  [('shiraz', 0.007513907446232225),\n",
       "   ('vineyard', 0.0042178293062625442),\n",
       "   ('vine', 0.0038726933160268323),\n",
       "   ('custard', 0.0038653537053186322),\n",
       "   ('barossa', 0.0037771682995086805),\n",
       "   ('viognier', 0.0033827853515161618),\n",
       "   ('old', 0.003319285018040876),\n",
       "   ('australian', 0.0031676734455354108),\n",
       "   ('vale', 0.0030937858001798746),\n",
       "   ('mclaren', 0.0030839313845328008)]),\n",
       " (6,\n",
       "  [('ferment', 0.0082849450386426968),\n",
       "   ('month', 0.0059821283614933845),\n",
       "   ('grape', 0.0057939622515891815),\n",
       "   ('barrel', 0.0056863260129878532),\n",
       "   ('age', 0.0052192694924557024),\n",
       "   ('harvest', 0.0050442261870227104),\n",
       "   ('oak', 0.0045370303616926984),\n",
       "   ('vineyard', 0.004433482568480889),\n",
       "   ('french', 0.0043634091718497215),\n",
       "   ('bottl', 0.0039073131436820861)]),\n",
       " (7,\n",
       "  [('red', 0.012356256529287603),\n",
       "   ('cherri', 0.010525297849271519),\n",
       "   ('black', 0.010405663386465038),\n",
       "   ('tannin', 0.0092782229284857232),\n",
       "   ('dark', 0.0088614402772627162),\n",
       "   ('plum', 0.0082663444453533567),\n",
       "   ('spice', 0.0078585075486050874),\n",
       "   ('rubi', 0.0077404519965904653),\n",
       "   ('blackberri', 0.0073631818195240353),\n",
       "   ('color', 0.0071568805206526868)]),\n",
       " (8,\n",
       "  [('spectat', 0.0073661381955262596),\n",
       "   ('top', 0.0067339351232627576),\n",
       "   ('champagn', 0.0043693514555258207),\n",
       "   ('wine', 0.0040269279923509753),\n",
       "   ('grand', 0.0039939455542355225),\n",
       "   ('year', 0.003702114658822878),\n",
       "   ('de', 0.0033857982005802605),\n",
       "   ('brut', 0.0032012586332002945),\n",
       "   ('vintag', 0.0031774466518174728),\n",
       "   ('impecc', 0.0029142981312030025)]),\n",
       " (9,\n",
       "  [('flesh', 0.0040588683418657538),\n",
       "   ('bbq', 0.0040078239258517275),\n",
       "   ('zinfandel', 0.0036749432529072984),\n",
       "   ('fuji', 0.0030830024172149445),\n",
       "   ('howel', 0.0028592154061410678),\n",
       "   ('montrachet', 0.0027466192588163447),\n",
       "   ('wine', 0.0027071879238188294),\n",
       "   ('white', 0.0025898647500316673),\n",
       "   ('breadth', 0.0025595442332873408),\n",
       "   ('vineyard', 0.0025589736269364489)]),\n",
       " (10,\n",
       "  [('roussann', 0.0059404289769228432),\n",
       "   ('filet', 0.0047973940421663025),\n",
       "   ('marsann', 0.0041312706066210106),\n",
       "   ('mignon', 0.0040804497861455652),\n",
       "   ('vineyard', 0.0035672946516639224),\n",
       "   ('vigor', 0.003203343889370153),\n",
       "   ('amber', 0.0030210154283264487),\n",
       "   ('grape', 0.0029673052398964265),\n",
       "   ('concret', 0.0028644747229460816),\n",
       "   ('avor', 0.0028546409684671453)]),\n",
       " (11,\n",
       "  [('pinot', 0.0074194468167033166),\n",
       "   ('gris', 0.0067193032344965353),\n",
       "   ('discreet', 0.0040766103999920669),\n",
       "   ('noir', 0.0038704989243490751),\n",
       "   ('watermelon', 0.0033273488764570414),\n",
       "   ('lemongrass', 0.0032410477721525584),\n",
       "   ('dijon', 0.0031688790244300781),\n",
       "   ('clone', 0.0029881900090105743),\n",
       "   ('excess', 0.0029474073155251503),\n",
       "   ('nero', 0.0029215656975871427)]),\n",
       " (12,\n",
       "  [('duck', 0.0058210970873396051),\n",
       "   ('pork', 0.0055671063220515109),\n",
       "   ('pinot', 0.0053379669009086745),\n",
       "   ('noir', 0.0052158495872316833),\n",
       "   ('cherri', 0.0045686329436964383),\n",
       "   ('recal', 0.0043999522483715546),\n",
       "   ('mingl', 0.0038400097497268788),\n",
       "   ('compot', 0.0037818450344563291),\n",
       "   ('mushroom', 0.0037744624658301979),\n",
       "   ('graham', 0.0035858990183266566)]),\n",
       " (13,\n",
       "  [('grassi', 0.0063420605641085507),\n",
       "   ('curd', 0.0045053348593874819),\n",
       "   ('coriand', 0.0044546206308608543),\n",
       "   ('upfront', 0.0043091954518602541),\n",
       "   ('potpourri', 0.0037133897829968988),\n",
       "   ('lemon', 0.0036574578543926623),\n",
       "   ('steeli', 0.0036423204170228751),\n",
       "   ('asparagus', 0.0034933288302771322),\n",
       "   ('cleans', 0.0034286627726846835),\n",
       "   ('beeswax', 0.003368534959370382)]),\n",
       " (14,\n",
       "  [('vineyard', 0.0041785587494010436),\n",
       "   ('culmin', 0.0038313261432943771),\n",
       "   ('soil', 0.0038074105410135428),\n",
       "   ('briari', 0.0031461116879730419),\n",
       "   ('wine', 0.0031232208824094687),\n",
       "   ('leap', 0.0030472725664513938),\n",
       "   ('year', 0.0030227895683524551),\n",
       "   ('vintag', 0.0029736491200339373),\n",
       "   ('stag', 0.0029564911846244836),\n",
       "   ('limeston', 0.0028867489327189752)]),\n",
       " (15,\n",
       "  [('red', 0.0035876105720045672),\n",
       "   ('wine', 0.003548196606464828),\n",
       "   ('fruit', 0.0030832763640082773),\n",
       "   ('eleg', 0.0030753952698812487),\n",
       "   ('intens', 0.0029662644291397764),\n",
       "   ('palat', 0.0028924817441132217),\n",
       "   ('purplish', 0.0028354526187621409),\n",
       "   ('great', 0.0028114053876641008),\n",
       "   ('nose', 0.0028082206457066636),\n",
       "   ('note', 0.0027936942365274033)]),\n",
       " (16,\n",
       "  [('chardonnay', 0.009018335719490924),\n",
       "   ('blanc', 0.0082931870798133873),\n",
       "   ('ferment', 0.0078883379622203265),\n",
       "   ('barrel', 0.0047762482647860701),\n",
       "   ('nectarin', 0.0045074856142131451),\n",
       "   ('mango', 0.004469077476964795),\n",
       "   ('citrus', 0.0044022581592388114),\n",
       "   ('sauvignon', 0.004145261705474735),\n",
       "   ('tropic', 0.0039865525820069764),\n",
       "   ('acid', 0.0039016894650611132)]),\n",
       " (17,\n",
       "  [('chianti', 0.0047327976977688951),\n",
       "   ('di', 0.0041122504914518293),\n",
       "   ('brunello', 0.0037667787663839352),\n",
       "   ('classico', 0.0033891396503190163),\n",
       "   ('montalcino', 0.0032998741923247151),\n",
       "   ('cedari', 0.0032402474132904049),\n",
       "   ('year', 0.0031567697510464562),\n",
       "   ('sangioves', 0.0030356813150749446),\n",
       "   ('red', 0.0028738662730277312),\n",
       "   ('riserva', 0.0027286165775022341)]),\n",
       " (18,\n",
       "  [('pinot', 0.0091211396736177019),\n",
       "   ('noir', 0.008357921139794583),\n",
       "   ('russian', 0.0045513757177970916),\n",
       "   ('river', 0.0043656882779754208),\n",
       "   ('vineyard', 0.0043484176154842272),\n",
       "   ('coast', 0.0042211379862494196),\n",
       "   ('chabli', 0.0034280934772105242),\n",
       "   ('flavor', 0.0033857045174727511),\n",
       "   ('monterey', 0.0030850489652530077),\n",
       "   ('crack', 0.0030003641417879947)]),\n",
       " (19,\n",
       "  [('barolo', 0.0095835431097107994),\n",
       "   ('nebbiolo', 0.0076543953117121696),\n",
       "   ('hit', 0.005551395829524442),\n",
       "   ('shell', 0.0042051498614350596),\n",
       "   ('vari', 0.0041704373398174692),\n",
       "   ('transpar', 0.0039833675767531433),\n",
       "   ('bianco', 0.0032909559623240151),\n",
       "   ('potato', 0.0032856554530745429),\n",
       "   ('lilac', 0.0032433344914926166),\n",
       "   ('trout', 0.0031769775456022943)])]"
      ]
     },
     "execution_count": 15,
     "metadata": {},
     "output_type": "execute_result"
    }
   ],
   "source": [
    "#3. make lda model out of tfidf model\n",
    "#default settings for the most part\n",
    "#can change them as necessary to see effect on corpus_tfidf input\n",
    "lda = models.LdaModel(corpus_tfidf, id2word=dictionary, num_topics = n_top, decay = kappa, passes = n_pass, minimum_probability=0)\n",
    "\n",
    "if data_save: lda.save(data_key+'.lda')\n",
    "\n",
    "#keep wrapped corpus model in memory\n",
    "corpus_lda = lda[corpus_tfidf]\n",
    "if data_save: corpora.MmCorpus.serialize(data_key+'_lda'+'.mm', corpus_lda)\n",
    "\n",
    "lda.show_topics(num_topics=n_top,formatted=False)"
   ]
  },
  {
   "cell_type": "code",
   "execution_count": null,
   "metadata": {
    "collapsed": false,
    "scrolled": true
   },
   "outputs": [],
   "source": [
    "wine_search = 10002\n",
    "topic = 0\n",
    "wine_topics = lda.get_document_topics(corpus_tfidf[wine_search])\n",
    "#print(wine_topics)\n",
    "#lda0.show_topic(wine_topics[0][0],topn=50)\n",
    "topics_wine = [(x[1], x[0]) for x in sorted([(x[1], x[0]) for x in wine_topics], reverse=True)]\n",
    "pprint(topics_wine[topic])\n",
    "pprint(lda.show_topic(topics_wine[topic][0],topn=30))\n",
    "print(document_list[wine_search])"
   ]
  },
  {
   "cell_type": "code",
   "execution_count": 18,
   "metadata": {
    "collapsed": false,
    "scrolled": false
   },
   "outputs": [
    {
     "data": {
      "text/plain": [
       "[(0,\n",
       "  [('water', 0.0065239193851581575),\n",
       "   ('midpal', 0.0056755215540746995),\n",
       "   ('molass', 0.0052119628522940189),\n",
       "   ('enrich', 0.0050671728486812815),\n",
       "   ('barbequ', 0.0047202162960725026),\n",
       "   ('brais', 0.0044593762885999123),\n",
       "   ('composit', 0.0039816030675668369),\n",
       "   ('delicaci', 0.003947507364589895),\n",
       "   ('pallet', 0.0038795043023163557),\n",
       "   ('slate', 0.0037299873748366089)]),\n",
       " (1,\n",
       "  [('blackcurr', 0.0078680800169473077),\n",
       "   ('greet', 0.0049722267516115011),\n",
       "   ('opaqu', 0.0047105873267610163),\n",
       "   ('sour', 0.0046213306562212101),\n",
       "   ('brule', 0.0041716372880352863),\n",
       "   ('tasti', 0.003978109943106314),\n",
       "   ('front', 0.003774490658870372),\n",
       "   ('sandalwood', 0.0037424010335295526),\n",
       "   ('creme', 0.0035240751798004907),\n",
       "   ('streak', 0.003502042705506581)]),\n",
       " (2,\n",
       "  [('tempranillo', 0.012691349991836035),\n",
       "   ('santa', 0.008310980625931965),\n",
       "   ('garnacha', 0.0074679908471471925),\n",
       "   ('satisfi', 0.0071137242027039457),\n",
       "   ('graciano', 0.006606951391455505),\n",
       "   ('marmalad', 0.0056390785853556924),\n",
       "   ('undergrowth', 0.0049580200557297971),\n",
       "   ('mazuelo', 0.0048346467215429111),\n",
       "   ('barbara', 0.004828499772175727),\n",
       "   ('consumpt', 0.0047189956354091898)]),\n",
       " (3,\n",
       "  [('cabernet', 0.020974617559398577),\n",
       "   ('merlot', 0.013065339847065221),\n",
       "   ('blend', 0.01283262307076243),\n",
       "   ('sauvignon', 0.012526126073455032),\n",
       "   ('franc', 0.010469302428127467),\n",
       "   ('petit', 0.009602093389295234),\n",
       "   ('syrah', 0.0081387938641550236),\n",
       "   ('vineyard', 0.0078765168836048075),\n",
       "   ('verdot', 0.007630143890741424),\n",
       "   ('valley', 0.0070584243673268241)]),\n",
       " (4,\n",
       "  [('citrus', 0.011788029790640307),\n",
       "   ('appl', 0.010942726658861002),\n",
       "   ('fresh', 0.010538529148343556),\n",
       "   ('pear', 0.0098116054507945052),\n",
       "   ('white', 0.009599510622663246),\n",
       "   ('crisp', 0.0094560295546912664),\n",
       "   ('peach', 0.0093891459908039317),\n",
       "   ('lemon', 0.0091424178007938513),\n",
       "   ('yellow', 0.0084757494808065277),\n",
       "   ('green', 0.0084667602440664288)]),\n",
       " (5,\n",
       "  [('shiraz', 0.010597637401411775),\n",
       "   ('barossa', 0.0056416684372306691),\n",
       "   ('custard', 0.0055107349608017461),\n",
       "   ('vineyard', 0.0048468258214520643),\n",
       "   ('vale', 0.0045628610699714198),\n",
       "   ('mclaren', 0.0045472546709328775),\n",
       "   ('vine', 0.004305684864570971),\n",
       "   ('australian', 0.0043001459441320816),\n",
       "   ('viognier', 0.0042799797614355359),\n",
       "   ('stonefruit', 0.0041049640891086319)]),\n",
       " (6,\n",
       "  [('ferment', 0.010250023779270754),\n",
       "   ('grape', 0.0079236038132218956),\n",
       "   ('month', 0.0076054385432678638),\n",
       "   ('barrel', 0.0072789610896562404),\n",
       "   ('harvest', 0.0067444774476275145),\n",
       "   ('age', 0.0061456877654674754),\n",
       "   ('vineyard', 0.0059586203768464225),\n",
       "   ('french', 0.0052338344270581151),\n",
       "   ('oak', 0.0051980226424696201),\n",
       "   ('year', 0.0048739632711988726)]),\n",
       " (7,\n",
       "  [('red', 0.012494579337926897),\n",
       "   ('cherri', 0.010867701264183734),\n",
       "   ('black', 0.01064592098865212),\n",
       "   ('tannin', 0.0095121823978548646),\n",
       "   ('dark', 0.0088992093231648854),\n",
       "   ('plum', 0.0082791530961521618),\n",
       "   ('spice', 0.0081025040578978722),\n",
       "   ('rubi', 0.0076618046243648414),\n",
       "   ('blackberri', 0.007539734086976212),\n",
       "   ('color', 0.0071553685525873826)]),\n",
       " (8,\n",
       "  [('spectat', 0.0090004735435022677),\n",
       "   ('top', 0.0081397844121676808),\n",
       "   ('champagn', 0.0054862057321980393),\n",
       "   ('grand', 0.0048924480796722894),\n",
       "   ('wine', 0.0045271776387281783),\n",
       "   ('de', 0.0042416656895066466),\n",
       "   ('year', 0.0040246317010194663),\n",
       "   ('brut', 0.0039793390712852357),\n",
       "   ('vintag', 0.0035177679208934511),\n",
       "   ('cru', 0.0034836919827075201)]),\n",
       " (9,\n",
       "  [('flesh', 0.0062678282207404229),\n",
       "   ('bbq', 0.0058402005159006133),\n",
       "   ('zinfandel', 0.0044482870594753487),\n",
       "   ('fuji', 0.0044300573775179035),\n",
       "   ('everyday', 0.0043308908544806924),\n",
       "   ('howel', 0.0040389419350761579),\n",
       "   ('montrachet', 0.0040259345671123147),\n",
       "   ('meant', 0.0039157355351796957),\n",
       "   ('volumin', 0.0036771900737626408),\n",
       "   ('breadth', 0.0036323285283536471)]),\n",
       " (10,\n",
       "  [('roussann', 0.0089196480155786344),\n",
       "   ('filet', 0.0072426640471948359),\n",
       "   ('marsann', 0.0060774227923399713),\n",
       "   ('mignon', 0.0060375032235144245),\n",
       "   ('avor', 0.0044417822487179143),\n",
       "   ('riesl', 0.0040716597091167081),\n",
       "   ('held', 0.0040604571232758374),\n",
       "   ('concret', 0.0040469652769351524),\n",
       "   ('hermitag', 0.0040395561385717657),\n",
       "   ('vigor', 0.0040338288343712975)]),\n",
       " (11,\n",
       "  [('pinot', 0.0077486063989522548),\n",
       "   ('gris', 0.00669956616429536),\n",
       "   ('discreet', 0.0058303175059654872),\n",
       "   ('lemongrass', 0.00578302132074797),\n",
       "   ('watermelon', 0.0055255516030654501),\n",
       "   ('dijon', 0.0049048917409772264),\n",
       "   ('nero', 0.0045017851228645505),\n",
       "   ('excess', 0.0044075647910905126),\n",
       "   ('silver', 0.0042525847090824779),\n",
       "   ('pois', 0.0040934871578320094)]),\n",
       " (12,\n",
       "  [('pork', 0.0098013740198891908),\n",
       "   ('duck', 0.009682940497699067),\n",
       "   ('recal', 0.0061247194007425405),\n",
       "   ('pinot', 0.0056719964177764527),\n",
       "   ('noir', 0.0054897487121190868),\n",
       "   ('veal', 0.0054614175986724568),\n",
       "   ('mushroom', 0.005291767411497136),\n",
       "   ('compot', 0.005163124183546761),\n",
       "   ('graham', 0.0051146401722027592),\n",
       "   ('tenderloin', 0.0050077220143655982)]),\n",
       " (13,\n",
       "  [('grassi', 0.010666821874410034),\n",
       "   ('curd', 0.0078522162647488777),\n",
       "   ('upfront', 0.0076104854169857759),\n",
       "   ('coriand', 0.0070599356886126216),\n",
       "   ('salti', 0.0060489092361706827),\n",
       "   ('potpourri', 0.0060348579600357699),\n",
       "   ('asparagus', 0.0059111781804190647),\n",
       "   ('citrusi', 0.005861900291191692),\n",
       "   ('cleans', 0.0058502485397384386),\n",
       "   ('steeli', 0.0057193533229679067)]),\n",
       " (14,\n",
       "  [('vineyard', 0.0053953704274343614),\n",
       "   ('soil', 0.0051628919872518846),\n",
       "   ('culmin', 0.0048007226790933574),\n",
       "   ('limeston', 0.0040908461632776141),\n",
       "   ('leap', 0.0040708070146880894),\n",
       "   ('clay', 0.0040691315954560102),\n",
       "   ('briari', 0.0038775289937126012),\n",
       "   ('stag', 0.0038697660696101937),\n",
       "   ('vine', 0.0037174983139888723),\n",
       "   ('year', 0.0033744107205397351)]),\n",
       " (15,\n",
       "  [('tannic', 0.0040393584833421951),\n",
       "   ('purplish', 0.0035051476223368124),\n",
       "   ('wine', 0.0034736367582366501),\n",
       "   ('echo', 0.0031567573035304187),\n",
       "   ('immedi', 0.0030439941409079307),\n",
       "   ('blackcurr', 0.0030202355783183251),\n",
       "   ('year', 0.003012315733006202),\n",
       "   ('red', 0.002847137227040001),\n",
       "   ('savouri', 0.0028401777183438889),\n",
       "   ('inki', 0.0027986404717523059)]),\n",
       " (16,\n",
       "  [('chardonnay', 0.011296504816537042),\n",
       "   ('ferment', 0.010341377126834451),\n",
       "   ('blanc', 0.0089666042250350856),\n",
       "   ('barrel', 0.0065593772909890756),\n",
       "   ('nectarin', 0.0058615846561528677),\n",
       "   ('mango', 0.00535178229791952),\n",
       "   ('gris', 0.0046930323850041021),\n",
       "   ('vineyard', 0.0046372166670201557),\n",
       "   ('sauvignon', 0.0044156775938700415),\n",
       "   ('oak', 0.0043758194787128337)]),\n",
       " (17,\n",
       "  [('chianti', 0.0078712579713819016),\n",
       "   ('classico', 0.0052010280314255808),\n",
       "   ('di', 0.0051823833461785689),\n",
       "   ('brunello', 0.0049724081514505398),\n",
       "   ('sangioves', 0.0042140439934602661),\n",
       "   ('montalcino', 0.0041580421890616646),\n",
       "   ('riserva', 0.0038816611802374073),\n",
       "   ('year', 0.0035935114244898653),\n",
       "   ('advoc', 0.003508554819273185),\n",
       "   ('touriga', 0.0032047501582121254)]),\n",
       " (18,\n",
       "  [('pinot', 0.013201301852780775),\n",
       "   ('noir', 0.012258761636946074),\n",
       "   ('coast', 0.0067691308198789572),\n",
       "   ('russian', 0.0065316991556281633),\n",
       "   ('river', 0.0063790361083342368),\n",
       "   ('vineyard', 0.006055417091849348),\n",
       "   ('sonoma', 0.0046811273288113074),\n",
       "   ('valley', 0.0042211702331763834),\n",
       "   ('chabli', 0.0041837030144811606),\n",
       "   ('cool', 0.0041635759017148947)]),\n",
       " (19,\n",
       "  [('barolo', 0.013901507472647201),\n",
       "   ('nebbiolo', 0.011491059791546319),\n",
       "   ('hit', 0.0081906475858842028),\n",
       "   ('shell', 0.0065933762138763174),\n",
       "   ('vari', 0.0059364428246254401),\n",
       "   ('transpar', 0.0058348495345226549),\n",
       "   ('potato', 0.0052877886362074928),\n",
       "   ('lilac', 0.0047555210293211917),\n",
       "   ('bianco', 0.0046731078063001093),\n",
       "   ('chamomil', 0.0046627078868202521)])]"
      ]
     },
     "execution_count": 18,
     "metadata": {},
     "output_type": "execute_result"
    }
   ],
   "source": [
    "#1. reshuffle the documents\n",
    "document_df = wine_notes.sample(frac=1, replace=False).reset_index(drop=True)\n",
    "document_list = document_df['Stemmed'].tolist()\n",
    "#2. recreate \"bow\" corpus from documents using the dictionary\n",
    "corpus = [dictionary.doc2bow(line) for line in document_list]\n",
    "#3. convert to tf-idf model\n",
    "tfidf = models.TfidfModel(corpus)\n",
    "corpus_tfidf = tfidf[corpus]\n",
    "#4. update lda model\n",
    "lda.update(corpus_tfidf)\n",
    "corpus_lda = lda[corpus_tfidf]\n",
    "\n",
    "lda.show_topics(num_topics=n_top,formatted=False)"
   ]
  },
  {
   "cell_type": "code",
   "execution_count": null,
   "metadata": {
    "collapsed": false
   },
   "outputs": [],
   "source": []
  },
  {
   "cell_type": "code",
   "execution_count": null,
   "metadata": {
    "collapsed": false
   },
   "outputs": [],
   "source": [
    "#easy way to get lda results into a dataframe...\n",
    "theta, _ = lda.inference(corpus_tfidf)\n",
    "theta /= theta.sum(axis=1)[:, None]"
   ]
  },
  {
   "cell_type": "code",
   "execution_count": null,
   "metadata": {
    "collapsed": true
   },
   "outputs": [],
   "source": [
    "#secondary data_save\n",
    "data_save=True\n",
    "if data_save:\n",
    "    document_df.to_pickle(data_key+'_ids'+'.pickle')\n",
    "    dictionary.save(data_key+'.dict')\n",
    "    corpora.MmCorpus.serialize(data_key+'_bow'+'.mm', corpus)\n",
    "    tfidf.save(data_key+'.tfidf_model')\n",
    "    lda.save(data_key+'.lda')\n",
    "    corpora.MmCorpus.serialize(data_key+'_tfidf'+'.mm',corpus_tfidf)\n",
    "    corpora.MmCorpus.serialize(data_key+'_lda'+'.mm',corpus_lda)"
   ]
  },
  {
   "cell_type": "code",
   "execution_count": null,
   "metadata": {
    "collapsed": false,
    "scrolled": true
   },
   "outputs": [],
   "source": []
  },
  {
   "cell_type": "code",
   "execution_count": null,
   "metadata": {
    "collapsed": false
   },
   "outputs": [],
   "source": [
    "\n"
   ]
  },
  {
   "cell_type": "code",
   "execution_count": null,
   "metadata": {
    "collapsed": false,
    "scrolled": true
   },
   "outputs": [],
   "source": [
    "topic_probs = pd.concat([pd.DataFrame(document_df.Id),pd.DataFrame(document_df.Stemmed), pd.DataFrame(theta)], axis=1, join_axes=[document_df.index])\n",
    "topic_probs.to_pickle('wine_notes_probs.pickle')"
   ]
  },
  {
   "cell_type": "code",
   "execution_count": null,
   "metadata": {
    "collapsed": false,
    "scrolled": true
   },
   "outputs": [],
   "source": [
    "pd.DataFrame(lda.print_topics(num_topics=-1, num_words=25))"
   ]
  },
  {
   "cell_type": "code",
   "execution_count": null,
   "metadata": {
    "collapsed": false
   },
   "outputs": [],
   "source": []
  },
  {
   "cell_type": "code",
   "execution_count": null,
   "metadata": {
    "collapsed": false
   },
   "outputs": [],
   "source": []
  },
  {
   "cell_type": "code",
   "execution_count": null,
   "metadata": {
    "collapsed": false
   },
   "outputs": [],
   "source": []
  },
  {
   "cell_type": "code",
   "execution_count": null,
   "metadata": {
    "collapsed": false
   },
   "outputs": [],
   "source": []
  },
  {
   "cell_type": "code",
   "execution_count": null,
   "metadata": {
    "collapsed": false
   },
   "outputs": [],
   "source": [
    "#list of tuples (wine_lda) into a dataframe\n",
    "#hard way to get lda results into a dataframe...\n",
    "def create_lda_df(corp_lda, n_top):\n",
    "    lda_probs = pd.DataFrame()\n",
    "    docs = len(corp_lda)\n",
    "        \n",
    "    for d in range(docs):\n",
    "        \n",
    "        indiv_probs = pd.Series(0,index=range(0,n_top))\n",
    "        \n",
    "        for i in range(len(corp_lda[d])):\n",
    "           \n",
    "            indiv_probs.iloc[corp_lda[d][i][0]] = corp_lda[d][i][1]\n",
    "        \n",
    "        lda_probs = lda_probs.append(indiv_probs.T, ignore_index=True)\n",
    "        \n",
    "        if (d % round(docs*0.01,0)) == 0:\n",
    "            print('processing:')\n",
    "            print(round(d/docs*100,0),'%')\n",
    "            clear_output(wait=True)\n",
    "            \n",
    "    return lda_probs"
   ]
  },
  {
   "cell_type": "code",
   "execution_count": null,
   "metadata": {
    "collapsed": false
   },
   "outputs": [],
   "source": [
    "lda_probs_df = create_lda_df(corpus_lda,n_top)"
   ]
  },
  {
   "cell_type": "code",
   "execution_count": null,
   "metadata": {
    "collapsed": false,
    "scrolled": true
   },
   "outputs": [],
   "source": []
  },
  {
   "cell_type": "code",
   "execution_count": null,
   "metadata": {
    "collapsed": false,
    "scrolled": true
   },
   "outputs": [],
   "source": []
  },
  {
   "cell_type": "code",
   "execution_count": null,
   "metadata": {
    "collapsed": false,
    "scrolled": true
   },
   "outputs": [],
   "source": []
  },
  {
   "cell_type": "code",
   "execution_count": null,
   "metadata": {
    "collapsed": false
   },
   "outputs": [],
   "source": []
  },
  {
   "cell_type": "code",
   "execution_count": null,
   "metadata": {
    "collapsed": false
   },
   "outputs": [],
   "source": []
  },
  {
   "cell_type": "code",
   "execution_count": null,
   "metadata": {
    "collapsed": false
   },
   "outputs": [],
   "source": []
  },
  {
   "cell_type": "code",
   "execution_count": null,
   "metadata": {
    "collapsed": false
   },
   "outputs": [],
   "source": []
  }
 ],
 "metadata": {
  "anaconda-cloud": {},
  "kernelspec": {
   "display_name": "Python [conda root]",
   "language": "python",
   "name": "conda-root-py"
  },
  "language_info": {
   "codemirror_mode": {
    "name": "ipython",
    "version": 3
   },
   "file_extension": ".py",
   "mimetype": "text/x-python",
   "name": "python",
   "nbconvert_exporter": "python",
   "pygments_lexer": "ipython3",
   "version": "3.5.2"
  }
 },
 "nbformat": 4,
 "nbformat_minor": 1
}
